{
 "cells": [
  {
   "cell_type": "code",
   "execution_count": 3,
   "metadata": {},
   "outputs": [],
   "source": [
    "import slp_process as slp\n",
    "import polars as pl\n",
    "import time\n",
    "import slippistats as ss\n",
    "\n",
    "replay = R\"../Game_20230526T020459.slp\"\n",
    "game = ss.Game(replay)\n",
    "\n",
    "combo = ss.ComboComputer(replay)\n",
    "stats = ss.StatsComputer(replay)"
   ]
  },
  {
   "cell_type": "code",
   "execution_count": 11,
   "metadata": {},
   "outputs": [
    {
     "name": "stdout",
     "output_type": "stream",
     "text": [
      "12.4 ms ± 72.7 µs per loop (mean ± std. dev. of 7 runs, 100 loops each)\n"
     ]
    }
   ],
   "source": [
    "%timeit slp.parse(replay)"
   ]
  },
  {
   "cell_type": "code",
   "execution_count": 15,
   "metadata": {},
   "outputs": [
    {
     "name": "stdout",
     "output_type": "stream",
     "text": [
      "938 ms ± 10.2 ms per loop (mean ± std. dev. of 7 runs, 1 loop each)\n"
     ]
    }
   ],
   "source": [
    "%%timeit\n",
    "ss.Game(replay)\n",
    "ss.StatsComputer(game)\n",
    "stats.stats_compute()\n",
    "ss.ComboComputer(game)\n",
    "combo.combo_compute(\"NUT#356\")"
   ]
  },
  {
   "cell_type": "code",
   "execution_count": 6,
   "metadata": {},
   "outputs": [
    {
     "data": {
      "text/html": [
       "<div><style>\n",
       ".dataframe > thead > tr > th,\n",
       ".dataframe > tbody > tr > td {\n",
       "  text-align: right;\n",
       "}\n",
       "</style>\n",
       "<small>shape: (78, 21)</small><table border=\"1\" class=\"dataframe\"><thead><tr><th>FrameIndex</th><th>StocksRemaining</th><th>Percent</th><th>DamageTaken</th><th>LastHitBy</th><th>StateBeforeHit</th><th>Grounded</th><th>CrouchCancel</th><th>HitlagFrames</th><th>StickDuringHitlag</th><th>SDIInputs</th><th>ASDI</th><th>Knockback</th><th>DIStick</th><th>DIKnockback</th><th>DIEfficacy</th><th>HitlagStart</th><th>HitlagEnd</th><th>KillsWithDI</th><th>KillsNoDI</th><th>KillsAllDI</th></tr><tr><td>u32</td><td>u8</td><td>f32</td><td>f32</td><td>u8</td><td>u16</td><td>bool</td><td>bool</td><td>u8</td><td>list[i8]</td><td>list[i8]</td><td>i8</td><td>struct[2]</td><td>struct[2]</td><td>struct[2]</td><td>f32</td><td>struct[2]</td><td>struct[2]</td><td>bool</td><td>bool</td><td>bool</td></tr></thead><tbody><tr><td>304</td><td>4</td><td>3.0</td><td>3.0</td><td>18</td><td>20</td><td>true</td><td>false</td><td>4</td><td>[7, 7, … 7]</td><td>[]</td><td>0</td><td>{0.708,0.0}</td><td>{-1.0,0.0}</td><td>{0.708,2.9056e-13}</td><td>1.3063e-12</td><td>{39.593819,-0.081945}</td><td>{39.593819,-0.081945}</td><td>false</td><td>false</td><td>false</td></tr><tr><td>454</td><td>4</td><td>12.0</td><td>9.0</td><td>17</td><td>25</td><td>true</td><td>false</td><td>6</td><td>[1, -1, … -1]</td><td>[]</td><td>0</td><td>{-0.498255,-1.368944}</td><td>{0.0,0.0}</td><td>{-0.498255,-1.368944}</td><td>0.0</td><td>{-25.330391,5.6101}</td><td>{-25.330391,5.6101}</td><td>false</td><td>false</td><td>false</td></tr><tr><td>760</td><td>4</td><td>20.0</td><td>8.0</td><td>21</td><td>14</td><td>true</td><td>false</td><td>7</td><td>[-1, -1, … 5]</td><td>[]</td><td>0</td><td>{-0.398253,3.789129}</td><td>{-0.9625,0.0}</td><td>{2.960331,-2.39844}</td><td>52.499214</td><td>{3.544911,0.0001}</td><td>{-1.855088,0.0001}</td><td>false</td><td>false</td><td>false</td></tr><tr><td>843</td><td>4</td><td>22.790001</td><td>2.790001</td><td>18</td><td>186</td><td>false</td><td>false</td><td>3</td><td>[1, 1, 1]</td><td>[]</td><td>0</td><td>{-0.708,0.0}</td><td>{1.0,0.0}</td><td>{-0.708,1.0691e-7}</td><td>0.0</td><td>{-42.030426,23.450098}</td><td>{-42.030426,23.450098}</td><td>false</td><td>false</td><td>false</td></tr><tr><td>1556</td><td>4</td><td>25.790001</td><td>3.0</td><td>18</td><td>20</td><td>false</td><td>false</td><td>4</td><td>[7, -1, … 3]</td><td>[]</td><td>0</td><td>{-0.708,0.0}</td><td>{0.9625,0.0}</td><td>{-0.708,1.0691e-7}</td><td>0.0</td><td>{-32.753326,0.0001}</td><td>{-27.053326,0.0001}</td><td>false</td><td>false</td><td>false</td></tr><tr><td>1583</td><td>4</td><td>37.790001</td><td>12.0</td><td>17</td><td>25</td><td>true</td><td>false</td><td>7</td><td>[-1, -1, … -1]</td><td>[]</td><td>0</td><td>{-0.712496,-1.957568}</td><td>{0.0,0.0}</td><td>{-0.712496,-1.957568}</td><td>0.0</td><td>{-26.24333,13.3401}</td><td>{-26.24333,13.3401}</td><td>false</td><td>false</td><td>false</td></tr><tr><td>1931</td><td>4</td><td>53.790001</td><td>16.0</td><td>20</td><td>67</td><td>true</td><td>false</td><td>8</td><td>[1, 1, … 1]</td><td>[]</td><td>0</td><td>{0.711569,4.035505}</td><td>{0.9375,0.3125}</td><td>{3.82049,1.481733}</td><td>43.266766</td><td>{-79.3293,14.312098}</td><td>{-79.3293,14.312098}</td><td>false</td><td>false</td><td>false</td></tr><tr><td>1987</td><td>4</td><td>62.790001</td><td>9.0</td><td>8</td><td>90</td><td>true</td><td>false</td><td>6</td><td>[-1, -1, … -1]</td><td>[]</td><td>0</td><td>{0.232261,3.48598}</td><td>{0.0,0.0}</td><td>{0.232261,3.485987}</td><td>0.0</td><td>{-27.611092,20.860939}</td><td>{-27.611092,20.860939}</td><td>false</td><td>false</td><td>false</td></tr><tr><td>2227</td><td>4</td><td>73.949997</td><td>11.159996</td><td>17</td><td>15</td><td>true</td><td>false</td><td>6</td><td>[7, 7, … 5]</td><td>[]</td><td>0</td><td>{1.128042,2.479418}</td><td>{-0.8375,-0.525}</td><td>{2.666858,0.554851}</td><td>17.012039</td><td>{43.063362,-0.804767}</td><td>{37.738361,0.0001}</td><td>false</td><td>false</td><td>false</td></tr><tr><td>2469</td><td>4</td><td>81.949997</td><td>8.0</td><td>21</td><td>50</td><td>true</td><td>false</td><td>7</td><td>[1, 1, … -1]</td><td>[]</td><td>0</td><td>{-0.474768,4.517118}</td><td>{0.0,0.0}</td><td>{-0.474768,4.517115}</td><td>0.0</td><td>{-22.997574,0.0001}</td><td>{-22.997574,0.0001}</td><td>false</td><td>false</td><td>false</td></tr><tr><td>2528</td><td>4</td><td>92.389999</td><td>10.440002</td><td>17</td><td>90</td><td>true</td><td>false</td><td>6</td><td>[-1, -1, … 5]</td><td>[]</td><td>0</td><td>{-1.338114,-1.847516}</td><td>{-0.5375,-0.5875}</td><td>{-1.596032,-1.629894}</td><td>0.471314</td><td>{-40.531693,34.086105}</td><td>{-43.381691,30.861105}</td><td>false</td><td>false</td><td>false</td></tr><tr><td>2809</td><td>4</td><td>96.389999</td><td>4.0</td><td>2</td><td>20</td><td>true</td><td>false</td><td>4</td><td>[7, 7, … 7]</td><td>[]</td><td>0</td><td>{0.657499,1.806465}</td><td>{-0.625,0.7625}</td><td>{-0.060421,1.921451}</td><td>41.21117</td><td>{32.570225,0.0001}</td><td>{32.570225,0.0001}</td><td>false</td><td>false</td><td>false</td></tr><tr><td>&hellip;</td><td>&hellip;</td><td>&hellip;</td><td>&hellip;</td><td>&hellip;</td><td>&hellip;</td><td>&hellip;</td><td>&hellip;</td><td>&hellip;</td><td>&hellip;</td><td>&hellip;</td><td>&hellip;</td><td>&hellip;</td><td>&hellip;</td><td>&hellip;</td><td>&hellip;</td><td>&hellip;</td><td>&hellip;</td><td>&hellip;</td><td>&hellip;</td><td>&hellip;</td></tr><tr><td>11299</td><td>1</td><td>81.700005</td><td>1.0</td><td>56</td><td>242</td><td>true</td><td>false</td><td>5</td><td>[7, 7, … 5]</td><td>[]</td><td>0</td><td>{-1.504641,-4.630808}</td><td>{-0.9375,-0.3125}</td><td>{3.735389,-3.123329}</td><td>36.216694</td><td>{1.03336,-6.946685}</td><td>{-4.59164,0.0001}</td><td>true</td><td>false</td><td>false</td></tr><tr><td>11357</td><td>1</td><td>90.400002</td><td>6.879997</td><td>21</td><td>180</td><td>true</td><td>false</td><td>7</td><td>[1, 1, … 1]</td><td>[]</td><td>0</td><td>{0.485907,4.623095}</td><td>{1.0,0.0}</td><td>{-3.758109,2.735988}</td><td>56.669743</td><td>{-34.569435,0.0001}</td><td>{-34.569435,0.0001}</td><td>false</td><td>false</td><td>false</td></tr><tr><td>11577</td><td>1</td><td>93.160004</td><td>2.760002</td><td>18</td><td>63</td><td>false</td><td>false</td><td>3</td><td>[-1, -1, -1]</td><td>[]</td><td>0</td><td>{-0.708,0.0}</td><td>{0.0,0.0}</td><td>{-0.708,1.0691e-7}</td><td>0.0</td><td>{-2.288575,0.0001}</td><td>{-2.288575,0.0001}</td><td>false</td><td>false</td><td>false</td></tr><tr><td>11631</td><td>1</td><td>104.920006</td><td>11.760002</td><td>17</td><td>63</td><td>true</td><td>false</td><td>6</td><td>[-1, 3, … 3]</td><td>[]</td><td>0</td><td>{-1.491186,3.2776}</td><td>{0.875,-0.475}</td><td>{-0.84118,3.501242}</td><td>20.608578</td><td>{-17.222578,0.0001}</td><td>{-13.172578,0.0001}</td><td>false</td><td>false</td><td>false</td></tr><tr><td>11662</td><td>1</td><td>111.960007</td><td>7.040001</td><td>21</td><td>87</td><td>true</td><td>false</td><td>7</td><td>[1, 1, … 1]</td><td>[]</td><td>0</td><td>{-0.820239,4.875624}</td><td>{0.775,0.6125}</td><td>{3.414226,3.575974}</td><td>42.956894</td><td>{-38.187656,11.575829}</td><td>{-38.187656,11.575829}</td><td>false</td><td>false</td><td>false</td></tr><tr><td>11857</td><td>1</td><td>123.000008</td><td>11.040001</td><td>17</td><td>72</td><td>true</td><td>false</td><td>6</td><td>[3, 3, … 3]</td><td>[]</td><td>0</td><td>{1.689765,3.714074}</td><td>{0.0,-1.0}</td><td>{-1.484136,-3.80092}</td><td>9.825849</td><td>{-22.738829,0.0001}</td><td>{-22.738829,0.0001}</td><td>false</td><td>false</td><td>false</td></tr><tr><td>12085</td><td>1</td><td>125.730011</td><td>2.730003</td><td>18</td><td>43</td><td>false</td><td>false</td><td>3</td><td>[3, 3, 3]</td><td>[]</td><td>0</td><td>{0.708,-0.0}</td><td>{0.0,-1.0}</td><td>{0.467504,0.531699}</td><td>57.295776</td><td>{-32.983795,0.0001}</td><td>{-32.983795,0.0001}</td><td>false</td><td>false</td><td>false</td></tr><tr><td>12100</td><td>1</td><td>128.250015</td><td>2.520004</td><td>18</td><td>57</td><td>false</td><td>false</td><td>3</td><td>[3, 3, 3]</td><td>[]</td><td>0</td><td>{0.708,0.0}</td><td>{0.0,-1.0}</td><td>{0.467504,0.531699}</td><td>57.295776</td><td>{-30.199793,0.0001}</td><td>{-30.199793,0.0001}</td><td>false</td><td>false</td><td>false</td></tr><tr><td>12111</td><td>1</td><td>144.250015</td><td>16.0</td><td>12</td><td>78</td><td>true</td><td>false</td><td>5</td><td>[3, 3, … 3]</td><td>[]</td><td>0</td><td>{3.221961,1.502425}</td><td>{0.0,-1.0}</td><td>{-0.74661,-3.475757}</td><td>47.062401</td><td>{-27.415789,0.0001}</td><td>{-27.415789,0.0001}</td><td>false</td><td>false</td><td>false</td></tr><tr><td>12187</td><td>1</td><td>146.710022</td><td>2.460007</td><td>18</td><td>14</td><td>false</td><td>false</td><td>3</td><td>[-1, -1, -1]</td><td>[]</td><td>0</td><td>{0.708,0.0}</td><td>{0.0,0.0}</td><td>{0.708,0.0}</td><td>0.0</td><td>{32.993534,0.0001}</td><td>{32.993534,0.0001}</td><td>false</td><td>false</td><td>false</td></tr><tr><td>12350</td><td>1</td><td>154.310028</td><td>7.600006</td><td>21</td><td>65</td><td>true</td><td>false</td><td>7</td><td>[-1, -1, … -1]</td><td>[]</td><td>0</td><td>{-0.565833,5.383546}</td><td>{0.8,0.3}</td><td>{-1.912407,5.064127}</td><td>39.183975</td><td>{-4.798971,7.0201}</td><td>{-4.798971,7.0201}</td><td>false</td><td>false</td><td>false</td></tr><tr><td>12420</td><td>1</td><td>169.310028</td><td>15.0</td><td>15</td><td>90</td><td>true</td><td>false</td><td>8</td><td>[7, 7, … 1]</td><td>[]</td><td>0</td><td>{-5.25748,5.25748}</td><td>{0.75,0.65}</td><td>{-6.776344,-3.059967}</td><td>56.149868</td><td>{-29.923914,82.527878}</td><td>{-29.923914,82.527878}</td><td>true</td><td>true</td><td>false</td></tr></tbody></table></div>"
      ],
      "text/plain": [
       "shape: (78, 21)\n",
       "┌──────────┬────────────┬────────────┬───────────┬───┬─────────┬───────────┬────────────┬──────────┐\n",
       "│ FrameInd ┆ StocksRema ┆ Percent    ┆ DamageTak ┆ … ┆ HitlagE ┆ KillsWith ┆ KillsNoDI  ┆ KillsAll │\n",
       "│ ex       ┆ ining      ┆ ---        ┆ en        ┆   ┆ nd      ┆ DI        ┆ ---        ┆ DI       │\n",
       "│ ---      ┆ ---        ┆ f32        ┆ ---       ┆   ┆ ---     ┆ ---       ┆ bool       ┆ ---      │\n",
       "│ u32      ┆ u8         ┆            ┆ f32       ┆   ┆ struct[ ┆ bool      ┆            ┆ bool     │\n",
       "│          ┆            ┆            ┆           ┆   ┆ 2]      ┆           ┆            ┆          │\n",
       "╞══════════╪════════════╪════════════╪═══════════╪═══╪═════════╪═══════════╪════════════╪══════════╡\n",
       "│ 304      ┆ 4          ┆ 3.0        ┆ 3.0       ┆ … ┆ {39.593 ┆ false     ┆ false      ┆ false    │\n",
       "│          ┆            ┆            ┆           ┆   ┆ 819,-0. ┆           ┆            ┆          │\n",
       "│          ┆            ┆            ┆           ┆   ┆ 081945} ┆           ┆            ┆          │\n",
       "│ 454      ┆ 4          ┆ 12.0       ┆ 9.0       ┆ … ┆ {-25.33 ┆ false     ┆ false      ┆ false    │\n",
       "│          ┆            ┆            ┆           ┆   ┆ 0391,5. ┆           ┆            ┆          │\n",
       "│          ┆            ┆            ┆           ┆   ┆ 6101}   ┆           ┆            ┆          │\n",
       "│ 760      ┆ 4          ┆ 20.0       ┆ 8.0       ┆ … ┆ {-1.855 ┆ false     ┆ false      ┆ false    │\n",
       "│          ┆            ┆            ┆           ┆   ┆ 088,0.0 ┆           ┆            ┆          │\n",
       "│          ┆            ┆            ┆           ┆   ┆ 001}    ┆           ┆            ┆          │\n",
       "│ 843      ┆ 4          ┆ 22.790001  ┆ 2.790001  ┆ … ┆ {-42.03 ┆ false     ┆ false      ┆ false    │\n",
       "│          ┆            ┆            ┆           ┆   ┆ 0426,23 ┆           ┆            ┆          │\n",
       "│          ┆            ┆            ┆           ┆   ┆ .450098 ┆           ┆            ┆          │\n",
       "│          ┆            ┆            ┆           ┆   ┆ }       ┆           ┆            ┆          │\n",
       "│ …        ┆ …          ┆ …          ┆ …         ┆ … ┆ …       ┆ …         ┆ …          ┆ …        │\n",
       "│ 12111    ┆ 1          ┆ 144.250015 ┆ 16.0      ┆ … ┆ {-27.41 ┆ false     ┆ false      ┆ false    │\n",
       "│          ┆            ┆            ┆           ┆   ┆ 5789,0. ┆           ┆            ┆          │\n",
       "│          ┆            ┆            ┆           ┆   ┆ 0001}   ┆           ┆            ┆          │\n",
       "│ 12187    ┆ 1          ┆ 146.710022 ┆ 2.460007  ┆ … ┆ {32.993 ┆ false     ┆ false      ┆ false    │\n",
       "│          ┆            ┆            ┆           ┆   ┆ 534,0.0 ┆           ┆            ┆          │\n",
       "│          ┆            ┆            ┆           ┆   ┆ 001}    ┆           ┆            ┆          │\n",
       "│ 12350    ┆ 1          ┆ 154.310028 ┆ 7.600006  ┆ … ┆ {-4.798 ┆ false     ┆ false      ┆ false    │\n",
       "│          ┆            ┆            ┆           ┆   ┆ 971,7.0 ┆           ┆            ┆          │\n",
       "│          ┆            ┆            ┆           ┆   ┆ 201}    ┆           ┆            ┆          │\n",
       "│ 12420    ┆ 1          ┆ 169.310028 ┆ 15.0      ┆ … ┆ {-29.92 ┆ true      ┆ true       ┆ false    │\n",
       "│          ┆            ┆            ┆           ┆   ┆ 3914,82 ┆           ┆            ┆          │\n",
       "│          ┆            ┆            ┆           ┆   ┆ .527878 ┆           ┆            ┆          │\n",
       "│          ┆            ┆            ┆           ┆   ┆ }       ┆           ┆            ┆          │\n",
       "└──────────┴────────────┴────────────┴───────────┴───┴─────────┴───────────┴────────────┴──────────┘"
      ]
     },
     "execution_count": 6,
     "metadata": {},
     "output_type": "execute_result"
    }
   ],
   "source": [
    "slp.parse(replay)[0].players[0].stats.defense\n"
   ]
  }
 ],
 "metadata": {
  "kernelspec": {
   "display_name": ".venv",
   "language": "python",
   "name": "python3"
  },
  "language_info": {
   "codemirror_mode": {
    "name": "ipython",
    "version": 3
   },
   "file_extension": ".py",
   "mimetype": "text/x-python",
   "name": "python",
   "nbconvert_exporter": "python",
   "pygments_lexer": "ipython3",
   "version": "3.11.5"
  },
  "orig_nbformat": 4
 },
 "nbformat": 4,
 "nbformat_minor": 2
}
