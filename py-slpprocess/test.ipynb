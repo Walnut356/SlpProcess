{
 "cells": [
  {
   "cell_type": "code",
   "execution_count": 1,
   "metadata": {},
   "outputs": [],
   "source": [
    "import slp_process as slp\n",
    "import polars as pl\n",
    "\n",
    "replay = R\"E:\\Slippi Replays\\Netplay\\Game_20231222T004632.slp\""
   ]
  },
  {
   "cell_type": "code",
   "execution_count": 2,
   "metadata": {},
   "outputs": [
    {
     "name": "stdout",
     "output_type": "stream",
     "text": [
      "12.7 ms ± 242 µs per loop (mean ± std. dev. of 7 runs, 100 loops each)\n"
     ]
    }
   ],
   "source": [
    "%timeit slp.parse(replay)"
   ]
  },
  {
   "cell_type": "code",
   "execution_count": 3,
   "metadata": {},
   "outputs": [
    {
     "data": {
      "text/plain": [
       "OrderedDict([('FrameIndex', Int32),\n",
       "             ('Stocks', UInt8),\n",
       "             ('Percent', Float32),\n",
       "             ('DamageTaken', Float32),\n",
       "             ('LastHitBy', Utf8),\n",
       "             ('StateBeforeHit', Utf8),\n",
       "             ('Grounded', Boolean),\n",
       "             ('CrouchCancel', Boolean),\n",
       "             ('VCancel', Boolean),\n",
       "             ('ASDI', Utf8),\n",
       "             ('HitlagFrames', UInt8),\n",
       "             ('StickDuringHitlag', List(Utf8)),\n",
       "             ('SDIInputs', List(Utf8)),\n",
       "             ('HitlagStart', Struct({'x': Float32, 'y': Float32})),\n",
       "             ('HitlagEnd', Struct({'x': Float32, 'y': Float32})),\n",
       "             ('DIStick', Struct({'x': Float32, 'y': Float32})),\n",
       "             ('Knockback', Struct({'x': Float32, 'y': Float32})),\n",
       "             ('DIKnockback', Struct({'x': Float32, 'y': Float32})),\n",
       "             ('KBAngle', Float32),\n",
       "             ('DIKBAngle', Float32),\n",
       "             ('DIEfficacy', Float32),\n",
       "             ('KillsWithDI', Boolean),\n",
       "             ('KillsNoDI', Boolean),\n",
       "             ('KillsAllDI', Boolean),\n",
       "             ('KillsSomeDI', Boolean)])"
      ]
     },
     "execution_count": 3,
     "metadata": {},
     "output_type": "execute_result"
    }
   ],
   "source": [
    "df = slp.parse(replay)[0].players[0].stats.defense\n",
    "df.schema\n"
   ]
  },
  {
   "cell_type": "code",
   "execution_count": 4,
   "metadata": {},
   "outputs": [
    {
     "data": {
      "text/html": [
       "<div><style>\n",
       ".dataframe > thead > tr,\n",
       ".dataframe > tbody > tr {\n",
       "  text-align: right;\n",
       "  white-space: pre-wrap;\n",
       "}\n",
       "</style>\n",
       "<small>shape: (4, 25)</small><table border=\"1\" class=\"dataframe\"><thead><tr><th>FrameIndex</th><th>Stocks</th><th>Percent</th><th>DamageTaken</th><th>LastHitBy</th><th>StateBeforeHit</th><th>Grounded</th><th>CrouchCancel</th><th>VCancel</th><th>ASDI</th><th>HitlagFrames</th><th>StickDuringHitlag</th><th>SDIInputs</th><th>HitlagStart</th><th>HitlagEnd</th><th>DIStick</th><th>Knockback</th><th>DIKnockback</th><th>KBAngle</th><th>DIKBAngle</th><th>DIEfficacy</th><th>KillsWithDI</th><th>KillsNoDI</th><th>KillsAllDI</th><th>KillsSomeDI</th></tr><tr><td>i32</td><td>u8</td><td>f32</td><td>f32</td><td>str</td><td>str</td><td>bool</td><td>bool</td><td>bool</td><td>str</td><td>u8</td><td>list[str]</td><td>list[str]</td><td>struct[2]</td><td>struct[2]</td><td>struct[2]</td><td>struct[2]</td><td>struct[2]</td><td>f32</td><td>f32</td><td>f32</td><td>bool</td><td>bool</td><td>bool</td><td>bool</td></tr></thead><tbody><tr><td>2810</td><td>4</td><td>98.5</td><td>1.0</td><td>&quot;F_SMASH&quot;</td><td>&quot;DAMAGE_FALL&quot;</td><td>false</td><td>null</td><td>false</td><td>&quot;↑&quot;</td><td>6</td><td>[&quot;↑&quot;, &quot;↑&quot;, … &quot;↑&quot;]</td><td>[]</td><td>{192.119522,-72.228615}</td><td>{-40.903755,2.365375}</td><td>{0.0,0.7875}</td><td>{0.282009,0.272333}</td><td>{0.253168,0.299332}</td><td>44.000053</td><td>49.776241</td><td>0.320899</td><td>false</td><td>false</td><td>false</td><td>false</td></tr><tr><td>4944</td><td>3</td><td>151.369995</td><td>16.0</td><td>&quot;D_SMASH&quot;</td><td>&quot;FIRE_FOX_AIR&quot;</td><td>false</td><td>null</td><td>null</td><td>&quot;↖&quot;</td><td>8</td><td>[&quot;↖&quot;, &quot;↖&quot;, … &quot;↖&quot;]</td><td>[]</td><td>{66.892632,-10.104568}</td><td>{64.342628,-8.567068}</td><td>{-0.85,0.5125}</td><td>{5.024788,2.343097}</td><td>{4.415397,3.353038}</td><td>24.999996</td><td>37.212917</td><td>0.678496</td><td>false</td><td>false</td><td>false</td><td>false</td></tr><tr><td>5813</td><td>2</td><td>88.240005</td><td>11.639999</td><td>&quot;DAIR&quot;</td><td>&quot;DAMAGE_FLY_N&quot;</td><td>false</td><td>null</td><td>null</td><td>&quot;↗&quot;</td><td>6</td><td>[&quot;↗&quot;, &quot;↗&quot;, … &quot;↗&quot;]</td><td>[]</td><td>{-60.931644,15.521314}</td><td>{-58.194145,16.646313}</td><td>{0.9125,0.375}</td><td>{-1.294445,-1.9535}</td><td>{-1.10071,-2.068861}</td><td>236.470413</td><td>241.985382</td><td>0.306387</td><td>false</td><td>false</td><td>false</td><td>false</td></tr><tr><td>7057</td><td>1</td><td>33.239998</td><td>9.239998</td><td>&quot;DAIR&quot;</td><td>&quot;FIRE_FOX_AIR&quot;</td><td>false</td><td>null</td><td>null</td><td>&quot;↑&quot;</td><td>6</td><td>[&quot;↑&quot;, &quot;↑&quot;, … &quot;↑&quot;]</td><td>[]</td><td>{70.377518,-37.706242}</td><td>{70.377518,-34.818741}</td><td>{0.0,0.9625}</td><td>{0.669287,-1.83885}</td><td>{0.731491,-1.815003}</td><td>290.0</td><td>291.950653</td><td>0.108369</td><td>false</td><td>false</td><td>false</td><td>false</td></tr></tbody></table></div>"
      ],
      "text/plain": [
       "shape: (4, 25)\n",
       "┌────────────┬────────┬────────────┬───────────┬───┬───────────┬───────────┬───────────┬───────────┐\n",
       "│ FrameIndex ┆ Stocks ┆ Percent    ┆ DamageTak ┆ … ┆ KillsWith ┆ KillsNoDI ┆ KillsAllD ┆ KillsSome │\n",
       "│ ---        ┆ ---    ┆ ---        ┆ en        ┆   ┆ DI        ┆ ---       ┆ I         ┆ DI        │\n",
       "│ i32        ┆ u8     ┆ f32        ┆ ---       ┆   ┆ ---       ┆ bool      ┆ ---       ┆ ---       │\n",
       "│            ┆        ┆            ┆ f32       ┆   ┆ bool      ┆           ┆ bool      ┆ bool      │\n",
       "╞════════════╪════════╪════════════╪═══════════╪═══╪═══════════╪═══════════╪═══════════╪═══════════╡\n",
       "│ 2810       ┆ 4      ┆ 98.5       ┆ 1.0       ┆ … ┆ false     ┆ false     ┆ false     ┆ false     │\n",
       "│ 4944       ┆ 3      ┆ 151.369995 ┆ 16.0      ┆ … ┆ false     ┆ false     ┆ false     ┆ false     │\n",
       "│ 5813       ┆ 2      ┆ 88.240005  ┆ 11.639999 ┆ … ┆ false     ┆ false     ┆ false     ┆ false     │\n",
       "│ 7057       ┆ 1      ┆ 33.239998  ┆ 9.239998  ┆ … ┆ false     ┆ false     ┆ false     ┆ false     │\n",
       "└────────────┴────────┴────────────┴───────────┴───┴───────────┴───────────┴───────────┴───────────┘"
      ]
     },
     "execution_count": 4,
     "metadata": {},
     "output_type": "execute_result"
    }
   ],
   "source": [
    "df.filter(pl.col(\"Stocks\").is_last_distinct())"
   ]
  }
 ],
 "metadata": {
  "kernelspec": {
   "display_name": ".venv",
   "language": "python",
   "name": "python3"
  },
  "language_info": {
   "codemirror_mode": {
    "name": "ipython",
    "version": 3
   },
   "file_extension": ".py",
   "mimetype": "text/x-python",
   "name": "python",
   "nbconvert_exporter": "python",
   "pygments_lexer": "ipython3",
   "version": "3.11.5"
  },
  "orig_nbformat": 4
 },
 "nbformat": 4,
 "nbformat_minor": 2
}
