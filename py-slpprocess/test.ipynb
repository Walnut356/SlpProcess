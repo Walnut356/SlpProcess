{
 "cells": [
  {
   "cell_type": "code",
   "execution_count": 11,
   "metadata": {},
   "outputs": [],
   "source": [
    "import slp_process as slp\n",
    "import polars as pl\n",
    "import time\n",
    "import slippistats as ss\n",
    "\n",
    "games = slp.parse(R\"../Game_20230526T020459.slp\")\n",
    "game = games[0]\n",
    "players = game.players\n",
    "player = players[1]\n",
    "character = player.character\n",
    "frames = player.frames\n",
    "post = frames.post"
   ]
  },
  {
   "cell_type": "code",
   "execution_count": 8,
   "metadata": {},
   "outputs": [
    {
     "name": "stdout",
     "output_type": "stream",
     "text": [
      "15 ms ± 550 µs per loop (mean ± std. dev. of 7 runs, 100 loops each)\n",
      "33.4 ns ± 1.74 ns per loop (mean ± std. dev. of 7 runs, 10,000,000 loops each)\n",
      "2.28 µs ± 351 ns per loop (mean ± std. dev. of 7 runs, 100,000 loops each)\n",
      "32.6 ns ± 4.04 ns per loop (mean ± std. dev. of 7 runs, 10,000,000 loops each)\n",
      "106 ns ± 3.58 ns per loop (mean ± std. dev. of 7 runs, 10,000,000 loops each)\n",
      "918 ns ± 42.6 ns per loop (mean ± std. dev. of 7 runs, 1,000,000 loops each)\n",
      "576 µs ± 22.2 µs per loop (mean ± std. dev. of 7 runs, 1,000 loops each)\n",
      "1.11 ms ± 25.6 µs per loop (mean ± std. dev. of 7 runs, 1,000 loops each)\n"
     ]
    }
   ],
   "source": [
    "%timeit games = slp.parse(R\"../Game_20230526T020459.slp\")\n",
    "%timeit game = games[0]\n",
    "%timeit players = game.players\n",
    "%timeit player = players[0]\n",
    "%timeit character = player.character\n",
    "%timeit frames = player.frames\n",
    "%timeit pre = frames.pre\n",
    "%timeit post = frames.post"
   ]
  },
  {
   "cell_type": "code",
   "execution_count": 12,
   "metadata": {},
   "outputs": [
    {
     "data": {
      "text/html": [
       "<div><style>\n",
       ".dataframe > thead > tr > th,\n",
       ".dataframe > tbody > tr > td {\n",
       "  text-align: right;\n",
       "}\n",
       "</style>\n",
       "<small>shape: (12_461, 31)</small><table border=\"1\" class=\"dataframe\"><thead><tr><th>frame number</th><th>character</th><th>action state</th><th>position x</th><th>position y</th><th>facing</th><th>percent</th><th>shield health</th><th>last attack landed</th><th>combo count</th><th>last hit by</th><th>stocks</th><th>state frame</th><th>flags 1</th><th>flags 2</th><th>flags 3</th><th>flags 4</th><th>flags 5</th><th>misc as</th><th>is grounded</th><th>last ground id</th><th>jumps remaining</th><th>l cancel</th><th>hurtbox state</th><th>self air x</th><th>self y</th><th>knockback x</th><th>knockback y</th><th>self ground x</th><th>hitlag remaining</th><th>animation index</th></tr><tr><td>i32</td><td>u8</td><td>u16</td><td>f32</td><td>f32</td><td>f32</td><td>f32</td><td>f32</td><td>u8</td><td>u8</td><td>u8</td><td>u8</td><td>f32</td><td>u8</td><td>u8</td><td>u8</td><td>u8</td><td>u8</td><td>f32</td><td>bool</td><td>u16</td><td>u8</td><td>u8</td><td>u8</td><td>f32</td><td>f32</td><td>f32</td><td>f32</td><td>f32</td><td>f32</td><td>u32</td></tr></thead><tbody><tr><td>-123</td><td>1</td><td>322</td><td>42.0</td><td>28.0</td><td>-1.0</td><td>0.0</td><td>60.0</td><td>0</td><td>0</td><td>6</td><td>4</td><td>-1.0</td><td>0</td><td>0</td><td>0</td><td>0</td><td>64</td><td>1.2612e-44</td><td>true</td><td>65535</td><td>1</td><td>0</td><td>0</td><td>0.0</td><td>0.0</td><td>0.0</td><td>0.0</td><td>0.0</td><td>0.0</td><td>4294967295</td></tr><tr><td>-122</td><td>1</td><td>322</td><td>42.0</td><td>28.0</td><td>-1.0</td><td>0.0</td><td>60.0</td><td>0</td><td>0</td><td>6</td><td>4</td><td>-1.0</td><td>0</td><td>0</td><td>0</td><td>0</td><td>192</td><td>1.1210e-44</td><td>true</td><td>65535</td><td>1</td><td>0</td><td>0</td><td>0.0</td><td>0.0</td><td>0.0</td><td>0.0</td><td>0.0</td><td>0.0</td><td>4294967295</td></tr><tr><td>-121</td><td>1</td><td>322</td><td>42.0</td><td>28.0</td><td>-1.0</td><td>0.0</td><td>60.0</td><td>0</td><td>0</td><td>6</td><td>4</td><td>-1.0</td><td>0</td><td>0</td><td>0</td><td>0</td><td>192</td><td>9.8091e-45</td><td>true</td><td>65535</td><td>1</td><td>0</td><td>0</td><td>0.0</td><td>0.0</td><td>0.0</td><td>0.0</td><td>0.0</td><td>0.0</td><td>4294967295</td></tr><tr><td>-120</td><td>1</td><td>322</td><td>42.0</td><td>28.0</td><td>-1.0</td><td>0.0</td><td>60.0</td><td>0</td><td>0</td><td>6</td><td>4</td><td>-1.0</td><td>0</td><td>0</td><td>0</td><td>0</td><td>64</td><td>8.4078e-45</td><td>true</td><td>65535</td><td>1</td><td>0</td><td>0</td><td>0.0</td><td>0.0</td><td>0.0</td><td>0.0</td><td>0.0</td><td>0.0</td><td>4294967295</td></tr><tr><td>-119</td><td>1</td><td>322</td><td>42.0</td><td>28.0</td><td>-1.0</td><td>0.0</td><td>60.0</td><td>0</td><td>0</td><td>6</td><td>4</td><td>-1.0</td><td>0</td><td>0</td><td>0</td><td>0</td><td>64</td><td>7.0065e-45</td><td>true</td><td>65535</td><td>1</td><td>0</td><td>0</td><td>0.0</td><td>0.0</td><td>0.0</td><td>0.0</td><td>0.0</td><td>0.0</td><td>4294967295</td></tr><tr><td>-118</td><td>1</td><td>322</td><td>42.0</td><td>28.0</td><td>-1.0</td><td>0.0</td><td>60.0</td><td>0</td><td>0</td><td>6</td><td>4</td><td>-1.0</td><td>0</td><td>0</td><td>0</td><td>0</td><td>64</td><td>5.6052e-45</td><td>true</td><td>65535</td><td>1</td><td>0</td><td>0</td><td>0.0</td><td>0.0</td><td>0.0</td><td>0.0</td><td>0.0</td><td>0.0</td><td>4294967295</td></tr><tr><td>-117</td><td>1</td><td>322</td><td>42.0</td><td>28.0</td><td>-1.0</td><td>0.0</td><td>60.0</td><td>0</td><td>0</td><td>6</td><td>4</td><td>-1.0</td><td>0</td><td>0</td><td>0</td><td>0</td><td>64</td><td>4.2039e-45</td><td>true</td><td>65535</td><td>1</td><td>0</td><td>0</td><td>0.0</td><td>0.0</td><td>0.0</td><td>0.0</td><td>0.0</td><td>0.0</td><td>4294967295</td></tr><tr><td>-116</td><td>1</td><td>322</td><td>42.0</td><td>28.0</td><td>-1.0</td><td>0.0</td><td>60.0</td><td>0</td><td>0</td><td>6</td><td>4</td><td>-1.0</td><td>0</td><td>0</td><td>0</td><td>0</td><td>64</td><td>2.8026e-45</td><td>true</td><td>65535</td><td>1</td><td>0</td><td>0</td><td>0.0</td><td>0.0</td><td>0.0</td><td>0.0</td><td>0.0</td><td>0.0</td><td>4294967295</td></tr><tr><td>-115</td><td>1</td><td>322</td><td>42.0</td><td>28.0</td><td>-1.0</td><td>0.0</td><td>60.0</td><td>0</td><td>0</td><td>6</td><td>4</td><td>-1.0</td><td>0</td><td>0</td><td>0</td><td>0</td><td>64</td><td>1.4013e-45</td><td>true</td><td>65535</td><td>1</td><td>0</td><td>0</td><td>0.0</td><td>0.0</td><td>0.0</td><td>0.0</td><td>0.0</td><td>0.0</td><td>4294967295</td></tr><tr><td>-114</td><td>1</td><td>322</td><td>42.0</td><td>28.0</td><td>-1.0</td><td>0.0</td><td>60.0</td><td>0</td><td>0</td><td>6</td><td>4</td><td>-1.0</td><td>0</td><td>0</td><td>0</td><td>0</td><td>64</td><td>0.0</td><td>true</td><td>65535</td><td>1</td><td>0</td><td>0</td><td>0.0</td><td>0.0</td><td>0.0</td><td>0.0</td><td>0.0</td><td>0.0</td><td>4294967295</td></tr><tr><td>-113</td><td>1</td><td>323</td><td>42.0</td><td>28.044922</td><td>-1.0</td><td>0.0</td><td>60.0</td><td>0</td><td>0</td><td>6</td><td>4</td><td>0.0</td><td>0</td><td>0</td><td>0</td><td>0</td><td>0</td><td>4.0638e-44</td><td>true</td><td>65535</td><td>1</td><td>0</td><td>0</td><td>0.0</td><td>0.0</td><td>0.0</td><td>0.0</td><td>0.0</td><td>0.0</td><td>238</td></tr><tr><td>-112</td><td>1</td><td>323</td><td>42.0</td><td>28.08984</td><td>-1.0</td><td>0.0</td><td>60.0</td><td>0</td><td>0</td><td>6</td><td>4</td><td>1.0</td><td>0</td><td>0</td><td>0</td><td>0</td><td>0</td><td>3.9236e-44</td><td>true</td><td>65535</td><td>1</td><td>0</td><td>0</td><td>0.0</td><td>0.0</td><td>0.0</td><td>0.0</td><td>0.0</td><td>0.0</td><td>238</td></tr><tr><td>&hellip;</td><td>&hellip;</td><td>&hellip;</td><td>&hellip;</td><td>&hellip;</td><td>&hellip;</td><td>&hellip;</td><td>&hellip;</td><td>&hellip;</td><td>&hellip;</td><td>&hellip;</td><td>&hellip;</td><td>&hellip;</td><td>&hellip;</td><td>&hellip;</td><td>&hellip;</td><td>&hellip;</td><td>&hellip;</td><td>&hellip;</td><td>&hellip;</td><td>&hellip;</td><td>&hellip;</td><td>&hellip;</td><td>&hellip;</td><td>&hellip;</td><td>&hellip;</td><td>&hellip;</td><td>&hellip;</td><td>&hellip;</td><td>&hellip;</td><td>&hellip;</td></tr><tr><td>12316</td><td>1</td><td>88</td><td>-131.753601</td><td>147.64003</td><td>1.0</td><td>169.310028</td><td>60.0</td><td>21</td><td>1</td><td>0</td><td>1</td><td>23.0</td><td>64</td><td>0</td><td>0</td><td>2</td><td>128</td><td>77.0</td><td>true</td><td>3</td><td>1</td><td>0</td><td>0</td><td>0.0</td><td>-2.8</td><td>-4.266712</td><td>4.653135</td><td>0.0</td><td>0.0</td><td>178</td></tr><tr><td>12317</td><td>1</td><td>88</td><td>-135.98584</td><td>149.455566</td><td>1.0</td><td>169.310028</td><td>60.0</td><td>21</td><td>1</td><td>0</td><td>1</td><td>24.0</td><td>64</td><td>0</td><td>0</td><td>2</td><td>128</td><td>76.0</td><td>true</td><td>3</td><td>1</td><td>0</td><td>0</td><td>0.0</td><td>-2.8</td><td>-4.232244</td><td>4.615546</td><td>0.0</td><td>0.0</td><td>178</td></tr><tr><td>12318</td><td>1</td><td>88</td><td>-140.183624</td><td>151.233521</td><td>1.0</td><td>169.310028</td><td>60.0</td><td>21</td><td>1</td><td>0</td><td>1</td><td>25.0</td><td>64</td><td>0</td><td>0</td><td>2</td><td>128</td><td>75.0</td><td>true</td><td>3</td><td>1</td><td>0</td><td>0</td><td>0.0</td><td>-2.8</td><td>-4.197777</td><td>4.577956</td><td>0.0</td><td>0.0</td><td>178</td></tr><tr><td>12319</td><td>1</td><td>88</td><td>-144.346939</td><td>152.973877</td><td>1.0</td><td>169.310028</td><td>60.0</td><td>21</td><td>1</td><td>0</td><td>1</td><td>26.0</td><td>64</td><td>0</td><td>0</td><td>2</td><td>128</td><td>74.0</td><td>true</td><td>3</td><td>1</td><td>0</td><td>0</td><td>0.0</td><td>-2.8</td><td>-4.163309</td><td>4.540367</td><td>0.0</td><td>0.0</td><td>178</td></tr><tr><td>12320</td><td>1</td><td>88</td><td>-148.475784</td><td>154.676651</td><td>1.0</td><td>169.310028</td><td>60.0</td><td>21</td><td>1</td><td>0</td><td>1</td><td>27.0</td><td>64</td><td>0</td><td>0</td><td>2</td><td>128</td><td>73.0</td><td>true</td><td>3</td><td>1</td><td>0</td><td>0</td><td>0.0</td><td>-2.8</td><td>-4.128841</td><td>4.502777</td><td>0.0</td><td>0.0</td><td>178</td></tr><tr><td>12321</td><td>1</td><td>88</td><td>-152.57016</td><td>156.341843</td><td>1.0</td><td>169.310028</td><td>60.0</td><td>21</td><td>1</td><td>0</td><td>1</td><td>28.0</td><td>64</td><td>0</td><td>0</td><td>2</td><td>128</td><td>72.0</td><td>true</td><td>3</td><td>1</td><td>0</td><td>0</td><td>0.0</td><td>-2.8</td><td>-4.094374</td><td>4.465188</td><td>0.0</td><td>0.0</td><td>178</td></tr><tr><td>12322</td><td>1</td><td>88</td><td>-156.630066</td><td>157.969437</td><td>1.0</td><td>169.310028</td><td>60.0</td><td>21</td><td>1</td><td>0</td><td>1</td><td>29.0</td><td>64</td><td>0</td><td>0</td><td>2</td><td>128</td><td>71.0</td><td>true</td><td>3</td><td>1</td><td>0</td><td>0</td><td>0.0</td><td>-2.8</td><td>-4.059906</td><td>4.427598</td><td>0.0</td><td>0.0</td><td>178</td></tr><tr><td>12323</td><td>1</td><td>88</td><td>-160.655502</td><td>159.559448</td><td>1.0</td><td>169.310028</td><td>60.0</td><td>21</td><td>1</td><td>0</td><td>1</td><td>29.0</td><td>64</td><td>0</td><td>0</td><td>2</td><td>128</td><td>70.0</td><td>true</td><td>3</td><td>1</td><td>0</td><td>0</td><td>0.0</td><td>-2.8</td><td>-4.025438</td><td>4.390008</td><td>0.0</td><td>0.0</td><td>178</td></tr><tr><td>12324</td><td>1</td><td>88</td><td>-164.646469</td><td>161.111862</td><td>1.0</td><td>169.310028</td><td>60.0</td><td>21</td><td>1</td><td>0</td><td>1</td><td>29.0</td><td>64</td><td>0</td><td>0</td><td>2</td><td>128</td><td>69.0</td><td>true</td><td>3</td><td>1</td><td>0</td><td>0</td><td>0.0</td><td>-2.8</td><td>-3.99097</td><td>4.352419</td><td>0.0</td><td>0.0</td><td>178</td></tr><tr><td>12325</td><td>1</td><td>88</td><td>-168.602966</td><td>162.626694</td><td>1.0</td><td>169.310028</td><td>60.0</td><td>21</td><td>1</td><td>0</td><td>1</td><td>29.0</td><td>64</td><td>0</td><td>0</td><td>2</td><td>128</td><td>68.0</td><td>true</td><td>3</td><td>1</td><td>0</td><td>0</td><td>0.0</td><td>-2.8</td><td>-3.956502</td><td>4.314829</td><td>0.0</td><td>0.0</td><td>178</td></tr><tr><td>12326</td><td>1</td><td>88</td><td>-172.524994</td><td>164.103928</td><td>1.0</td><td>169.310028</td><td>60.0</td><td>21</td><td>1</td><td>0</td><td>1</td><td>29.0</td><td>64</td><td>0</td><td>0</td><td>2</td><td>128</td><td>67.0</td><td>true</td><td>3</td><td>1</td><td>0</td><td>0</td><td>0.0</td><td>-2.8</td><td>-3.922035</td><td>4.27724</td><td>0.0</td><td>0.0</td><td>178</td></tr><tr><td>12327</td><td>1</td><td>1</td><td>-176.412567</td><td>165.543579</td><td>1.0</td><td>169.310028</td><td>60.0</td><td>21</td><td>1</td><td>0</td><td>0</td><td>-1.0</td><td>64</td><td>0</td><td>0</td><td>0</td><td>192</td><td>8.4078e-44</td><td>true</td><td>3</td><td>1</td><td>0</td><td>0</td><td>0.0</td><td>0.0</td><td>0.0</td><td>0.0</td><td>0.0</td><td>0.0</td><td>4294967295</td></tr></tbody></table></div>"
      ],
      "text/plain": [
       "shape: (12_461, 31)\n",
       "┌────────────┬─────────┬────────────┬──────────┬───┬───────────┬────────────┬────────────┬────────────┐\n",
       "│ frame      ┆ charact ┆ action     ┆ position ┆ … ┆ knockback ┆ self       ┆ hitlag     ┆ animation  │\n",
       "│ number     ┆ er      ┆ state      ┆ x        ┆   ┆ y         ┆ ground x   ┆ remaining  ┆ index      │\n",
       "│ ---        ┆ ---     ┆ ---        ┆ ---      ┆   ┆ ---       ┆ ---        ┆ ---        ┆ ---        │\n",
       "│ i32        ┆ u8      ┆ u16        ┆ f32      ┆   ┆ f32       ┆ f32        ┆ f32        ┆ u32        │\n",
       "╞════════════╪═════════╪════════════╪══════════╪═══╪═══════════╪════════════╪════════════╪════════════╡\n",
       "│ -123       ┆ 1       ┆ 322        ┆ 42.0     ┆ … ┆ 0.0       ┆ 0.0        ┆ 0.0        ┆ 4294967295 │\n",
       "│ -122       ┆ 1       ┆ 322        ┆ 42.0     ┆ … ┆ 0.0       ┆ 0.0        ┆ 0.0        ┆ 4294967295 │\n",
       "│ -121       ┆ 1       ┆ 322        ┆ 42.0     ┆ … ┆ 0.0       ┆ 0.0        ┆ 0.0        ┆ 4294967295 │\n",
       "│ -120       ┆ 1       ┆ 322        ┆ 42.0     ┆ … ┆ 0.0       ┆ 0.0        ┆ 0.0        ┆ 4294967295 │\n",
       "│ …          ┆ …       ┆ …          ┆ …        ┆ … ┆ …         ┆ …          ┆ …          ┆ …          │\n",
       "│ 12324      ┆ 1       ┆ 88         ┆ -164.646 ┆ … ┆ 4.352419  ┆ 0.0        ┆ 0.0        ┆ 178        │\n",
       "│            ┆         ┆            ┆ 469      ┆   ┆           ┆            ┆            ┆            │\n",
       "│ 12325      ┆ 1       ┆ 88         ┆ -168.602 ┆ … ┆ 4.314829  ┆ 0.0        ┆ 0.0        ┆ 178        │\n",
       "│            ┆         ┆            ┆ 966      ┆   ┆           ┆            ┆            ┆            │\n",
       "│ 12326      ┆ 1       ┆ 88         ┆ -172.524 ┆ … ┆ 4.27724   ┆ 0.0        ┆ 0.0        ┆ 178        │\n",
       "│            ┆         ┆            ┆ 994      ┆   ┆           ┆            ┆            ┆            │\n",
       "│ 12327      ┆ 1       ┆ 1          ┆ -176.412 ┆ … ┆ 0.0       ┆ 0.0        ┆ 0.0        ┆ 4294967295 │\n",
       "│            ┆         ┆            ┆ 567      ┆   ┆           ┆            ┆            ┆            │\n",
       "└────────────┴─────────┴────────────┴──────────┴───┴───────────┴────────────┴────────────┴────────────┘"
      ]
     },
     "execution_count": 12,
     "metadata": {},
     "output_type": "execute_result"
    }
   ],
   "source": [
    "post"
   ]
  }
 ],
 "metadata": {
  "kernelspec": {
   "display_name": ".venv",
   "language": "python",
   "name": "python3"
  },
  "language_info": {
   "codemirror_mode": {
    "name": "ipython",
    "version": 3
   },
   "file_extension": ".py",
   "mimetype": "text/x-python",
   "name": "python",
   "nbconvert_exporter": "python",
   "pygments_lexer": "ipython3",
   "version": "3.11.2"
  },
  "orig_nbformat": 4
 },
 "nbformat": 4,
 "nbformat_minor": 2
}
