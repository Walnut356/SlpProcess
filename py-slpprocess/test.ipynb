{
 "cells": [
  {
   "cell_type": "code",
   "execution_count": 1,
   "metadata": {},
   "outputs": [],
   "source": [
    "import slp_process as slp\n",
    "import polars as pl\n",
    "import time\n",
    "import slippistats as ss\n",
    "\n",
    "games = slp.parse(R\"../Game_20230526T020459.slp\")\n",
    "game = games[0]\n",
    "players = game.players\n",
    "player = players[1]\n",
    "character = player.character\n",
    "frames = player.frames\n",
    "post = frames.post\n",
    "position = game.players[0].frames.pre.position"
   ]
  },
  {
   "cell_type": "code",
   "execution_count": 10,
   "metadata": {},
   "outputs": [
    {
     "name": "stdout",
     "output_type": "stream",
     "text": [
      "11.9 ms ± 350 µs per loop (mean ± std. dev. of 7 runs, 100 loops each)\n",
      "563 ms ± 33.8 ms per loop (mean ± std. dev. of 7 runs, 1 loop each)\n"
     ]
    }
   ],
   "source": [
    "%timeit slp.parse(R\"../Game_20230526T020459.slp\")\n",
    "%timeit ss.Game(R\"../Game_20230526T020459.slp\")"
   ]
  }
 ],
 "metadata": {
  "kernelspec": {
   "display_name": ".venv",
   "language": "python",
   "name": "python3"
  },
  "language_info": {
   "codemirror_mode": {
    "name": "ipython",
    "version": 3
   },
   "file_extension": ".py",
   "mimetype": "text/x-python",
   "name": "python",
   "nbconvert_exporter": "python",
   "pygments_lexer": "ipython3",
   "version": "3.11.5"
  },
  "orig_nbformat": 4
 },
 "nbformat": 4,
 "nbformat_minor": 2
}
