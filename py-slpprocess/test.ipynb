{
 "cells": [
  {
   "cell_type": "code",
   "execution_count": 1,
   "metadata": {},
   "outputs": [],
   "source": [
    "import slp_process as slp\n",
    "import polars as pl\n",
    "import time\n",
    "import slippistats as ss\n",
    "\n",
    "games = slp.parse(R\"../Game_20230526T020459.slp\")\n",
    "game = games[0]\n",
    "players = game.players\n",
    "player = players[1]\n",
    "character = player.character\n",
    "frames = player.frames\n",
    "post = frames.post"
   ]
  }
 ],
 "metadata": {
  "kernelspec": {
   "display_name": ".venv",
   "language": "python",
   "name": "python3"
  },
  "language_info": {
   "codemirror_mode": {
    "name": "ipython",
    "version": 3
   },
   "file_extension": ".py",
   "mimetype": "text/x-python",
   "name": "python",
   "nbconvert_exporter": "python",
   "pygments_lexer": "ipython3",
   "version": "3.11.2"
  },
  "orig_nbformat": 4
 },
 "nbformat": 4,
 "nbformat_minor": 2
}
