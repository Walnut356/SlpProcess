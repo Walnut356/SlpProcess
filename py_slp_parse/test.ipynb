{
 "cells": [
  {
   "cell_type": "code",
   "execution_count": 1,
   "metadata": {},
   "outputs": [],
   "source": [
    "import py_slp_parse as slp\n",
    "\n",
    "replay = R\"G:\\Coding\\My Projects\\Slippi Stats\\SlpProcess\\walljump_tech_1.slp\"\n",
    "\n",
    "game = slp.parse(replay)[0]\n",
    "player = game.players[0]\n",
    "post = player.frames.post\n",
    "pre = player.frames.pre"
   ]
  },
  {
   "cell_type": "code",
   "execution_count": 3,
   "metadata": {},
   "outputs": [],
   "source": [
    "frame =5146 - 123"
   ]
  },
  {
   "cell_type": "code",
   "execution_count": 4,
   "metadata": {},
   "outputs": [
    {
     "name": "stdout",
     "output_type": "stream",
     "text": [
      "PreFrame {\n",
      "    character: Peach,\n",
      "    frame_index: 4900,\n",
      "    random_seed: 329214584,\n",
      "    action_state: Universal(DAMAGE_FLY_N),\n",
      "    position: Pos(x: -48.64143, y: 0.43680203),\n",
      "    orientation: RIGHT,\n",
      "    joystick: StickPos(x: 0.9875, y: 0),\n",
      "    cstick: StickPos(x: 0, y: 0),\n",
      "    engine_trigger: 1,\n",
      "    engine_buttons: R|X|JOYSTICK_RIGHT|ANY_TRIGGER,\n",
      "    controller_buttons: R|X,\n",
      "    controller_l: 0.007142857,\n",
      "    controller_r: 1,\n",
      "    percent: Some(48.1),\n",
      "    raw_stick_x: Some(94),\n",
      "    raw_stick_y: None,\n",
      "}\n"
     ]
    }
   ],
   "source": [
    "print(pre.print_frame(frame))"
   ]
  },
  {
   "cell_type": "code",
   "execution_count": 5,
   "metadata": {},
   "outputs": [
    {
     "name": "stdout",
     "output_type": "stream",
     "text": [
      "PostFrame {\n",
      "    frame_index: 4900,\n",
      "    character: Peach,\n",
      "    action_state: Universal(DAMAGE_FLY_N),\n",
      "    position: Pos(x: -48.64143, y: 0.43680203),\n",
      "    orientation: RIGHT,\n",
      "    percent: 48.1,\n",
      "    shield_health: 60,\n",
      "    last_attack_landed: 12,\n",
      "    combo_count: 1,\n",
      "    last_hit_by: 1,\n",
      "    stocks: 2,\n",
      "    state_frame: Some(1.0),\n",
      "    flags: Some(Flags{DEFENDER_HITLAG|HITLAG|HITSTUN|BIT_1_3}),\n",
      "    misc_as: Some(44.0),\n",
      "    is_grounded: Some(false),\n",
      "    last_ground_id: Some(3),\n",
      "    jumps_remaining: Some(1),\n",
      "    l_cancel: Some(NOT_APPLICABLE),\n",
      "    hurtbox_state: Some(VULNERABLE),\n",
      "    air_velocity: Some(Velocity { x: 0.0, y: 0.0 }),\n",
      "    knockback: Some(Velocity { x: -2.3803895, y: 2.3803895 }),\n",
      "    ground_velocity: Some(Velocity { x: 0.0, y: 0.0 }),\n",
      "    hitlag_remaining: Some(1.0),\n",
      "    animation_index: Some(178),\n",
      "    instance_hit_by: None,\n",
      "    instance_id: None,\n",
      "}\n"
     ]
    }
   ],
   "source": [
    "print(post.print_frame(frame))"
   ]
  },
  {
   "cell_type": "code",
   "execution_count": 8,
   "metadata": {},
   "outputs": [
    {
     "name": "stdout",
     "output_type": "stream",
     "text": [
      "413 µs ± 23.9 µs per loop (mean ± std. dev. of 7 runs, 1,000 loops each)\n"
     ]
    }
   ],
   "source": [
    "%timeit player.stats.l_cancel"
   ]
  },
  {
   "cell_type": "code",
   "execution_count": 10,
   "metadata": {},
   "outputs": [
    {
     "data": {
      "text/html": [
       "<div><style>\n",
       ".dataframe > thead > tr,\n",
       ".dataframe > tbody > tr {\n",
       "  text-align: right;\n",
       "  white-space: pre-wrap;\n",
       "}\n",
       "</style>\n",
       "<small>shape: (44, 25)</small><table border=\"1\" class=\"dataframe\"><thead><tr><th>FrameIndex</th><th>Stocks</th><th>Percent</th><th>DamageTaken</th><th>LastHitBy</th><th>StateBeforeHit</th><th>Grounded</th><th>CrouchCancel</th><th>VCancel</th><th>ASDI</th><th>HitlagFrames</th><th>StickDuringHitlag</th><th>SDIInputs</th><th>HitlagStart</th><th>HitlagEnd</th><th>DIStick</th><th>Knockback</th><th>DIKnockback</th><th>KBAngle</th><th>DIKBAngle</th><th>DIEfficacy</th><th>KillsWithDI</th><th>KillsNoDI</th><th>KillsAllDI</th><th>KillsSomeDI</th></tr><tr><td>i32</td><td>u8</td><td>f32</td><td>f32</td><td>str</td><td>str</td><td>bool</td><td>bool</td><td>bool</td><td>str</td><td>u8</td><td>list[str]</td><td>list[str]</td><td>struct[2]</td><td>struct[2]</td><td>struct[2]</td><td>struct[2]</td><td>struct[2]</td><td>f32</td><td>f32</td><td>f32</td><td>bool</td><td>bool</td><td>bool</td><td>bool</td></tr></thead><tbody><tr><td>12</td><td>4</td><td>12.0</td><td>12.0</td><td>&quot;DASH_ATTACK&quot;</td><td>&quot;LIGHT_THROW_AI…</td><td>false</td><td>null</td><td>null</td><td>&quot;↓&quot;</td><td>7</td><td>[&quot;↘&quot;, &quot;↘&quot;, … &quot;↓&quot;]</td><td>[]</td><td>{-46.752747,3.2101}</td><td>{-46.752747,0.2476}</td><td>{0.0,-0.9875}</td><td>{0.889681,2.444378}</td><td>{0.976689,2.410934}</td><td>70.000015</td><td>67.946732</td><td>0.114071</td><td>false</td><td>false</td><td>false</td><td>false</td></tr><tr><td>54</td><td>4</td><td>20.0</td><td>8.0</td><td>&quot;U_TILT&quot;</td><td>&quot;DAMAGE_FLY_N&quot;</td><td>false</td><td>null</td><td>null</td><td>&quot;•&quot;</td><td>5</td><td>[&quot;•&quot;, &quot;•&quot;, … &quot;•&quot;]</td><td>[]</td><td>{-24.345114,14.880237}</td><td>{-24.345114,14.880237}</td><td>{0.0,0.0}</td><td>{-1.366766,1.654094}</td><td>{-1.366766,1.654093}</td><td>129.566696</td><td>129.566696</td><td>0.0</td><td>false</td><td>false</td><td>false</td><td>false</td></tr><tr><td>151</td><td>4</td><td>30.0</td><td>10.0</td><td>&quot;FAIR&quot;</td><td>&quot;ATTACK_AIR_HI&quot;</td><td>false</td><td>null</td><td>null</td><td>&quot;↓&quot;</td><td>6</td><td>[&quot;→&quot;, &quot;→&quot;, … &quot;↘&quot;]</td><td>[&quot;↘&quot;]</td><td>{-52.234982,5.2101}</td><td>{-46.984982,-0.6024}</td><td>{0.0,-0.9875}</td><td>{-1.297578,1.297578}</td><td>{-1.480368,1.084404}</td><td>134.999969</td><td>143.776367</td><td>0.487578</td><td>false</td><td>false</td><td>false</td><td>false</td></tr><tr><td>691</td><td>4</td><td>41.830002</td><td>11.830002</td><td>&quot;FAIR&quot;</td><td>&quot;PARASOL_OPEN&quot;</td><td>false</td><td>null</td><td>null</td><td>&quot;←&quot;</td><td>6</td><td>[&quot;←&quot;, &quot;←&quot;, … &quot;←&quot;]</td><td>[]</td><td>{-5.778319,26.368727}</td><td>{-8.778319,26.368727}</td><td>{-1.0,0.0}</td><td>{-1.019377,2.401502}</td><td>{-1.615221,2.048758}</td><td>112.999992</td><td>128.251907</td><td>0.847329</td><td>false</td><td>false</td><td>false</td><td>false</td></tr><tr><td>736</td><td>4</td><td>52.620003</td><td>10.790001</td><td>&quot;FAIR&quot;</td><td>&quot;FALL&quot;</td><td>false</td><td>null</td><td>false</td><td>&quot;→&quot;</td><td>6</td><td>[&quot;→&quot;, &quot;→&quot;, … &quot;→&quot;]</td><td>[]</td><td>{-45.840019,28.797853}</td><td>{-42.877518,28.797853}</td><td>{0.9875,0.0}</td><td>{-1.109705,2.614301}</td><td>{-0.401494,2.811553}</td><td>112.999992</td><td>98.126976</td><td>0.826278</td><td>false</td><td>false</td><td>false</td><td>false</td></tr><tr><td>786</td><td>4</td><td>62.620003</td><td>10.0</td><td>&quot;BAIR&quot;</td><td>&quot;ATTACK_AIR_N&quot;</td><td>false</td><td>null</td><td>null</td><td>&quot;↘&quot;</td><td>6</td><td>[&quot;•&quot;, &quot;•&quot;, … &quot;→&quot;]</td><td>[&quot;→&quot;]</td><td>{-53.482727,48.882797}</td><td>{-44.970226,47.682796}</td><td>{0.9125,-0.4}</td><td>{-1.717734,1.717734}</td><td>{-1.645421,1.787124}</td><td>134.999969</td><td>132.636063</td><td>0.131329</td><td>false</td><td>false</td><td>false</td><td>false</td></tr><tr><td>918</td><td>4</td><td>69.620003</td><td>7.0</td><td>&quot;NEUTRAL_SPECIA…</td><td>&quot;PARASOL_FALL&quot;</td><td>false</td><td>null</td><td>null</td><td>&quot;↗&quot;</td><td>5</td><td>[&quot;→&quot;, &quot;→&quot;, … &quot;→&quot;]</td><td>[]</td><td>{-62.713146,53.692501}</td><td>{-60.013145,54.967503}</td><td>{0.9875,0.0}</td><td>{-2.201038,2.201038}</td><td>{-1.839434,2.5111}</td><td>134.999969</td><td>126.223564</td><td>0.487578</td><td>false</td><td>false</td><td>false</td><td>false</td></tr><tr><td>1021</td><td>4</td><td>80.279999</td><td>10.659996</td><td>&quot;FAIR&quot;</td><td>&quot;PARASOL_OPEN&quot;</td><td>false</td><td>null</td><td>null</td><td>&quot;↗&quot;</td><td>6</td><td>[&quot;↗&quot;, &quot;↗&quot;, … &quot;↗&quot;]</td><td>[]</td><td>{-103.964882,94.963722}</td><td>{-101.789879,96.988724}</td><td>{0.925,0.3375}</td><td>{-1.36246,3.209755}</td><td>{-0.339952,3.470342}</td><td>112.999992</td><td>95.594795</td><td>0.966955</td><td>false</td><td>false</td><td>false</td><td>false</td></tr><tr><td>1094</td><td>4</td><td>81.279999</td><td>1.0</td><td>&quot;FAIR&quot;</td><td>&quot;ATTACK_AIR_HI&quot;</td><td>false</td><td>null</td><td>null</td><td>&quot;←&quot;</td><td>7</td><td>[&quot;←&quot;, &quot;←&quot;, … &quot;←&quot;]</td><td>[]</td><td>{-96.35955,125.215919}</td><td>{-33.543533,6.7101}</td><td>{-0.9875,0.0}</td><td>{-0.001848,0.018863}</td><td>{-0.0074,0.017449}</td><td>95.59481</td><td>112.980782</td><td>0.965887</td><td>false</td><td>false</td><td>false</td><td>false</td></tr><tr><td>1355</td><td>4</td><td>88.879997</td><td>7.599998</td><td>&quot;FAIR&quot;</td><td>&quot;JUMP_AERIAL_B&quot;</td><td>false</td><td>null</td><td>false</td><td>&quot;↗&quot;</td><td>5</td><td>[&quot;↑&quot;, &quot;↑&quot;, … &quot;↗&quot;]</td><td>[&quot;↗&quot;]</td><td>{-55.483505,-35.167126}</td><td>{-53.620686,-32.467125}</td><td>{0.425,0.9}</td><td>{2.066988,2.066988}</td><td>{1.992449,2.13893}</td><td>44.999992</td><td>47.030617</td><td>0.112813</td><td>false</td><td>false</td><td>false</td><td>false</td></tr><tr><td>1400</td><td>4</td><td>95.879997</td><td>7.0</td><td>&quot;UP_SPECIAL&quot;</td><td>&quot;FLY_REFLECT_WA…</td><td>false</td><td>null</td><td>null</td><td>&quot;↗&quot;</td><td>5</td><td>[&quot;↗&quot;, &quot;↗&quot;, … &quot;↗&quot;]</td><td>[]</td><td>{-64.410858,-46.599701}</td><td>{-62.160858,-44.6497}</td><td>{0.75,0.65}</td><td>{1.795677,1.970707}</td><td>{1.804076,1.96302}</td><td>47.660706</td><td>47.416031</td><td>0.013593</td><td>false</td><td>false</td><td>false</td><td>false</td></tr><tr><td>1478</td><td>4</td><td>96.879997</td><td>1.0</td><td>&quot;UP_SPECIAL&quot;</td><td>&quot;PASSIVE_WALL_J…</td><td>false</td><td>null</td><td>null</td><td>&quot;•&quot;</td><td>5</td><td>[&quot;•&quot;, &quot;•&quot;, … &quot;•&quot;]</td><td>[]</td><td>{-98.082031,-62.623913}</td><td>{3.544425,0.0001}</td><td>{0.0,0.0}</td><td>{0.0,0.0}</td><td>{0.0,0.0}</td><td>0.0</td><td>0.0</td><td>null</td><td>false</td><td>false</td><td>false</td><td>false</td></tr><tr><td>&hellip;</td><td>&hellip;</td><td>&hellip;</td><td>&hellip;</td><td>&hellip;</td><td>&hellip;</td><td>&hellip;</td><td>&hellip;</td><td>&hellip;</td><td>&hellip;</td><td>&hellip;</td><td>&hellip;</td><td>&hellip;</td><td>&hellip;</td><td>&hellip;</td><td>&hellip;</td><td>&hellip;</td><td>&hellip;</td><td>&hellip;</td><td>&hellip;</td><td>&hellip;</td><td>&hellip;</td><td>&hellip;</td><td>&hellip;</td><td>&hellip;</td></tr><tr><td>6360</td><td>2</td><td>93.5</td><td>4.0</td><td>&quot;FORWARD_THROW&quot;</td><td>&quot;THROWN_F&quot;</td><td>true</td><td>false</td><td>null</td><td>&quot;←&quot;</td><td>7</td><td>[&quot;←&quot;, &quot;←&quot;, … &quot;←&quot;]</td><td>[]</td><td>{11.516835,1.720969}</td><td>{63.252251,-4.259401}</td><td>{-0.9875,0.0}</td><td>{2.169189,1.800869}</td><td>{1.927745,2.057258}</td><td>39.6996</td><td>46.861458</td><td>0.397881</td><td>false</td><td>false</td><td>false</td><td>false</td></tr><tr><td>6862</td><td>1</td><td>9.5</td><td>9.5</td><td>&quot;FAIR&quot;</td><td>&quot;FLOAT&quot;</td><td>false</td><td>null</td><td>null</td><td>&quot;←&quot;</td><td>6</td><td>[&quot;↙&quot;, &quot;←&quot;, … &quot;←&quot;]</td><td>[]</td><td>{-6.949631,3.420097}</td><td>{-9.912131,3.420097}</td><td>{-0.9875,0.0}</td><td>{1.028416,1.028416}</td><td>{0.85946,1.173289}</td><td>44.999992</td><td>53.776398</td><td>0.487578</td><td>false</td><td>false</td><td>false</td><td>false</td></tr><tr><td>6884</td><td>1</td><td>18.5</td><td>9.0</td><td>&quot;U_TILT&quot;</td><td>&quot;DAMAGE_AIR_2&quot;</td><td>false</td><td>null</td><td>null</td><td>&quot;•&quot;</td><td>6</td><td>[&quot;•&quot;, &quot;•&quot;, … &quot;•&quot;]</td><td>[]</td><td>{0.087602,4.831205}</td><td>{0.087602,4.831205}</td><td>{0.0,0.0}</td><td>{1.664294,1.664294}</td><td>{1.664294,1.664294}</td><td>44.999992</td><td>44.999992</td><td>0.0</td><td>false</td><td>false</td><td>false</td><td>false</td></tr><tr><td>6951</td><td>1</td><td>22.26</td><td>3.76</td><td>&quot;FORWARD_THROW&quot;</td><td>&quot;THROWN_F&quot;</td><td>true</td><td>false</td><td>null</td><td>&quot;←&quot;</td><td>6</td><td>[&quot;•&quot;, &quot;←&quot;, … &quot;←&quot;]</td><td>[&quot;←&quot;]</td><td>{26.842609,1.559587}</td><td>{57.85965,-4.57399}</td><td>{-0.9875,0.0}</td><td>{1.773736,1.639487}</td><td>{1.525456,1.872709}</td><td>42.747612</td><td>50.834705</td><td>0.449283</td><td>false</td><td>false</td><td>false</td><td>false</td></tr><tr><td>7034</td><td>1</td><td>37.260002</td><td>4.0</td><td>&quot;NAIR&quot;</td><td>&quot;ATTACK_AIR_N&quot;</td><td>false</td><td>null</td><td>null</td><td>&quot;•&quot;</td><td>4</td><td>[&quot;•&quot;, &quot;•&quot;, … &quot;•&quot;]</td><td>[]</td><td>{23.559343,8.617707}</td><td>{23.559343,8.617707}</td><td>{0.0,0.0}</td><td>{-0.088082,1.292358}</td><td>{-0.088082,1.292356}</td><td>93.89901</td><td>93.89901</td><td>0.0</td><td>false</td><td>false</td><td>false</td><td>false</td></tr><tr><td>7046</td><td>1</td><td>46.360001</td><td>9.099998</td><td>&quot;NAIR&quot;</td><td>&quot;DAMAGE_AIR_2&quot;</td><td>false</td><td>null</td><td>null</td><td>&quot;↓&quot;</td><td>6</td><td>[&quot;↓&quot;, &quot;↓&quot;, … &quot;↓&quot;]</td><td>[]</td><td>{22.922663,14.359241}</td><td>{22.922663,11.396742}</td><td>{0.0,-0.9875}</td><td>{-2.057886,2.057886}</td><td>{-2.347781,1.719804}</td><td>134.999969</td><td>143.776367</td><td>0.487578</td><td>false</td><td>false</td><td>false</td><td>false</td></tr><tr><td>7081</td><td>1</td><td>58.709999</td><td>12.349998</td><td>&quot;FAIR&quot;</td><td>&quot;DAMAGE_FLY_N&quot;</td><td>false</td><td>null</td><td>null</td><td>&quot;•&quot;</td><td>7</td><td>[&quot;•&quot;, &quot;•&quot;, … &quot;•&quot;]</td><td>[]</td><td>{-28.379496,17.296707}</td><td>{-28.379496,17.296707}</td><td>{0.0,0.0}</td><td>{-1.169198,2.754458}</td><td>{-1.169198,2.75446}</td><td>112.999992</td><td>112.999992</td><td>0.0</td><td>false</td><td>false</td><td>false</td><td>false</td></tr><tr><td>7119</td><td>1</td><td>71.709999</td><td>13.0</td><td>&quot;UAIR&quot;</td><td>&quot;DAMAGE_FLY_N&quot;</td><td>false</td><td>null</td><td>null</td><td>&quot;→&quot;</td><td>7</td><td>[&quot;→&quot;, &quot;→&quot;, … &quot;→&quot;]</td><td>[]</td><td>{-55.272232,45.971992}</td><td>{-52.309731,45.971992}</td><td>{0.9875,0.0}</td><td>{-0.531525,3.225947}</td><td>{0.4399,3.239703}</td><td>99.356331</td><td>82.267441</td><td>0.949383</td><td>false</td><td>false</td><td>false</td><td>false</td></tr><tr><td>7178</td><td>1</td><td>83.540001</td><td>11.830002</td><td>&quot;UAIR&quot;</td><td>&quot;JUMP_AERIAL_F&quot;</td><td>false</td><td>null</td><td>false</td><td>&quot;↓&quot;</td><td>6</td><td>[&quot;↓&quot;, &quot;↓&quot;, … &quot;↓&quot;]</td><td>[]</td><td>{-30.735458,86.497902}</td><td>{-30.735458,83.5354}</td><td>{0.0,-0.9875}</td><td>{0.076215,3.500528}</td><td>{0.076723,3.50053}</td><td>88.752739</td><td>88.744415</td><td>0.000462</td><td>false</td><td>false</td><td>false</td><td>false</td></tr><tr><td>7299</td><td>1</td><td>92.639999</td><td>9.099998</td><td>&quot;FAIR&quot;</td><td>&quot;ATTACK_AIR_LW&quot;</td><td>false</td><td>null</td><td>null</td><td>&quot;→&quot;</td><td>6</td><td>[&quot;→&quot;, &quot;→&quot;, … &quot;→&quot;]</td><td>[]</td><td>{-39.576546,41.273361}</td><td>{-36.614044,41.273361}</td><td>{0.9875,0.0}</td><td>{-2.112942,2.112942}</td><td>{-1.765811,2.410595}</td><td>134.999969</td><td>126.223564</td><td>0.487578</td><td>false</td><td>false</td><td>false</td><td>false</td></tr><tr><td>7360</td><td>1</td><td>96.639999</td><td>4.0</td><td>&quot;JAB_1&quot;</td><td>&quot;ATTACK_AIR_HI&quot;</td><td>false</td><td>null</td><td>null</td><td>&quot;→&quot;</td><td>4</td><td>[&quot;→&quot;, &quot;→&quot;, … &quot;→&quot;]</td><td>[]</td><td>{-75.830818,39.923065}</td><td>{-72.868317,39.923065}</td><td>{0.9875,0.0}</td><td>{-1.065349,1.065349}</td><td>{-0.890326,1.215426}</td><td>134.999969</td><td>126.223564</td><td>0.487578</td><td>false</td><td>false</td><td>false</td><td>false</td></tr><tr><td>7427</td><td>1</td><td>116.639999</td><td>20.0</td><td>&quot;F_SMASH&quot;</td><td>&quot;LAND_FALL_SPEC…</td><td>true</td><td>false</td><td>null</td><td>&quot;→&quot;</td><td>9</td><td>[&quot;↘&quot;, &quot;↘&quot;, … &quot;→&quot;]</td><td>[]</td><td>{-48.716198,23.450098}</td><td>{-45.753696,23.450098}</td><td>{0.9875,0.0}</td><td>{-4.838915,4.672887}</td><td>{-4.097852,5.334655}</td><td>136.000031</td><td>127.529922</td><td>0.470561</td><td>false</td><td>false</td><td>false</td><td>false</td></tr></tbody></table></div>"
      ],
      "text/plain": [
       "shape: (44, 25)\n",
       "┌────────────┬────────┬────────────┬───────────┬───┬───────────┬───────────┬───────────┬───────────┐\n",
       "│ FrameIndex ┆ Stocks ┆ Percent    ┆ DamageTak ┆ … ┆ KillsWith ┆ KillsNoDI ┆ KillsAllD ┆ KillsSome │\n",
       "│ ---        ┆ ---    ┆ ---        ┆ en        ┆   ┆ DI        ┆ ---       ┆ I         ┆ DI        │\n",
       "│ i32        ┆ u8     ┆ f32        ┆ ---       ┆   ┆ ---       ┆ bool      ┆ ---       ┆ ---       │\n",
       "│            ┆        ┆            ┆ f32       ┆   ┆ bool      ┆           ┆ bool      ┆ bool      │\n",
       "╞════════════╪════════╪════════════╪═══════════╪═══╪═══════════╪═══════════╪═══════════╪═══════════╡\n",
       "│ 12         ┆ 4      ┆ 12.0       ┆ 12.0      ┆ … ┆ false     ┆ false     ┆ false     ┆ false     │\n",
       "│ 54         ┆ 4      ┆ 20.0       ┆ 8.0       ┆ … ┆ false     ┆ false     ┆ false     ┆ false     │\n",
       "│ 151        ┆ 4      ┆ 30.0       ┆ 10.0      ┆ … ┆ false     ┆ false     ┆ false     ┆ false     │\n",
       "│ 691        ┆ 4      ┆ 41.830002  ┆ 11.830002 ┆ … ┆ false     ┆ false     ┆ false     ┆ false     │\n",
       "│ …          ┆ …      ┆ …          ┆ …         ┆ … ┆ …         ┆ …         ┆ …         ┆ …         │\n",
       "│ 7178       ┆ 1      ┆ 83.540001  ┆ 11.830002 ┆ … ┆ false     ┆ false     ┆ false     ┆ false     │\n",
       "│ 7299       ┆ 1      ┆ 92.639999  ┆ 9.099998  ┆ … ┆ false     ┆ false     ┆ false     ┆ false     │\n",
       "│ 7360       ┆ 1      ┆ 96.639999  ┆ 4.0       ┆ … ┆ false     ┆ false     ┆ false     ┆ false     │\n",
       "│ 7427       ┆ 1      ┆ 116.639999 ┆ 20.0      ┆ … ┆ false     ┆ false     ┆ false     ┆ false     │\n",
       "└────────────┴────────┴────────────┴───────────┴───┴───────────┴───────────┴───────────┴───────────┘"
      ]
     },
     "execution_count": 10,
     "metadata": {},
     "output_type": "execute_result"
    }
   ],
   "source": [
    "player.stats.defense"
   ]
  }
 ],
 "metadata": {
  "kernelspec": {
   "display_name": ".venv",
   "language": "python",
   "name": "python3"
  },
  "language_info": {
   "codemirror_mode": {
    "name": "ipython",
    "version": 3
   },
   "file_extension": ".py",
   "mimetype": "text/x-python",
   "name": "python",
   "nbconvert_exporter": "python",
   "pygments_lexer": "ipython3",
   "version": "3.11.5"
  },
  "orig_nbformat": 4
 },
 "nbformat": 4,
 "nbformat_minor": 2
}
